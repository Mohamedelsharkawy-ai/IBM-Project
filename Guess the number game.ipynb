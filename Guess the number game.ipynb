{
  "nbformat": 4,
  "nbformat_minor": 0,
  "metadata": {
    "colab": {
      "provenance": [],
      "authorship_tag": "ABX9TyN0V6S7DUsLkG14bvTyiTQm",
      "include_colab_link": true
    },
    "kernelspec": {
      "name": "python3",
      "display_name": "Python 3"
    },
    "language_info": {
      "name": "python"
    }
  },
  "cells": [
    {
      "cell_type": "markdown",
      "metadata": {
        "id": "view-in-github",
        "colab_type": "text"
      },
      "source": [
        "<a href=\"https://colab.research.google.com/github/Mohamedelsharkawy-ai/IBM-Project/blob/main/Guess%20the%20number%20game.ipynb\" target=\"_parent\"><img src=\"https://colab.research.google.com/assets/colab-badge.svg\" alt=\"Open In Colab\"/></a>"
      ]
    },
    {
      "cell_type": "code",
      "execution_count": 9,
      "metadata": {
        "colab": {
          "base_uri": "https://localhost:8080/"
        },
        "id": "dCQxGszKNvyH",
        "outputId": "90e9eaa9-3fb0-4422-c7c7-705c2352007f"
      },
      "outputs": [
        {
          "output_type": "stream",
          "name": "stdout",
          "text": [
            "i am thinking of number between 0 and 20\n",
            "take a guess\n",
            "2\n",
            "good job you have guessed the right number in 1 guesses!\n"
          ]
        }
      ],
      "source": [
        "#this is the guess number game\n",
        "import random\n",
        "secretnumber = random.randint(0,20)\n",
        "print ( 'i am thinking of number between 0 and 20')\n",
        "for guessestaken in range(1,7) :\n",
        "    print ('take a guess')\n",
        "    guess = int(input())\n",
        "    if guess < secretnumber :\n",
        "        print ('your guess is too low')\n",
        "    elif guess > secretnumber :\n",
        "        print ('your guess is too high')\n",
        "    else :\n",
        "        break\n",
        "print ('good job you have guessed the right number in ' + str(guessestaken) + ' guesses!')\n"
      ]
    }
  ]
}